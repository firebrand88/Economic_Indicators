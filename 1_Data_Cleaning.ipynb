{
 "cells": [
  {
   "cell_type": "markdown",
   "id": "42451ee6",
   "metadata": {},
   "source": [
    "# Data Cleaning\n",
    "\n",
    "This notebook is meant to take data and clean it as needed for the primary analysis notebook.  \n",
    "\n",
    "It is also meant to provide the source information and instructions for each of the data sources.  \n",
    "\n",
    "The following clean up programs are provided:  \n",
    "* Column Clean Up Program  "
   ]
  },
  {
   "cell_type": "markdown",
   "id": "8d4c4e3e",
   "metadata": {},
   "source": [
    "Quarterly Data  \n",
    "\n",
    "*Note: to see cleaning procedure, uncomment out cleaning text*  \n",
    "\n",
    "GDP Data - https://www.bea.gov/data/gdp  \n",
    "Table 1.1.6 Real Gross Domestic Product, Chained Dollars  \n",
    "<!-- Before cleaning:  \n",
    "![gdp_before_cleaning](Images/gdp_116_table.png)\n",
    "After cleaning:  \n",
    "![gdp_before_cleaning](Images/gdp_116_table_cleaned.png) -->"
   ]
  },
  {
   "cell_type": "markdown",
   "id": "9a3b3fb0",
   "metadata": {},
   "source": [
    "Monthly Data  \n",
    "The Chicago Fed National Activity Index (CFNAI) - https://www.chicagofed.org/research/data/cfnai/current-data  \n",
    "CFNAI Indexes - cfnai-data-series-xlsx.csv  \n",
    "<!-- Before cleaning:\n",
    "![chicago fed_before_cleaning](Images/chicago_fed_national_activity.png) -->"
   ]
  },
  {
   "cell_type": "markdown",
   "id": "d0c5f693",
   "metadata": {},
   "source": [
    "Weekly Data"
   ]
  },
  {
   "cell_type": "markdown",
   "id": "80369a4f",
   "metadata": {},
   "source": [
    "### Column Clean Up Program"
   ]
  },
  {
   "cell_type": "code",
   "execution_count": 46,
   "id": "399a6828",
   "metadata": {},
   "outputs": [
    {
     "data": {
      "text/html": [
       "<div>\n",
       "<style scoped>\n",
       "    .dataframe tbody tr th:only-of-type {\n",
       "        vertical-align: middle;\n",
       "    }\n",
       "\n",
       "    .dataframe tbody tr th {\n",
       "        vertical-align: top;\n",
       "    }\n",
       "\n",
       "    .dataframe thead th {\n",
       "        text-align: right;\n",
       "    }\n",
       "</style>\n",
       "<table border=\"1\" class=\"dataframe\">\n",
       "  <thead>\n",
       "    <tr style=\"text-align: right;\">\n",
       "      <th></th>\n",
       "      <th>Gross domestic product</th>\n",
       "      <th>Personal consumption expenditures</th>\n",
       "      <th>Goods</th>\n",
       "      <th>Durable goods</th>\n",
       "      <th>Nondurable goods</th>\n",
       "      <th>Services</th>\n",
       "      <th>Gross private domestic investment</th>\n",
       "      <th>Fixed investment</th>\n",
       "      <th>Nonresidential</th>\n",
       "      <th>Structures</th>\n",
       "      <th>...</th>\n",
       "      <th>Services</th>\n",
       "      <th>Imports</th>\n",
       "      <th>Goods.1</th>\n",
       "      <th>Services.1</th>\n",
       "      <th>Government consumption expenditures and gross investment</th>\n",
       "      <th>Federal</th>\n",
       "      <th>National defense</th>\n",
       "      <th>Nondefense</th>\n",
       "      <th>State and local</th>\n",
       "      <th>Residual</th>\n",
       "    </tr>\n",
       "  </thead>\n",
       "  <tbody>\n",
       "  </tbody>\n",
       "</table>\n",
       "<p>0 rows × 27 columns</p>\n",
       "</div>"
      ],
      "text/plain": [
       "Empty DataFrame\n",
       "Columns: [        Gross domestic product, Personal consumption expenditures,     Goods,         Durable goods,         Nondurable goods,     Services, Gross private domestic investment,     Fixed investment,         Nonresidential,             Structures,             Equipment,             Intellectual property products,         Residential,     Change in private inventories, Net exports of goods and services,     Exports,         Goods,         Services,     Imports,         Goods.1,         Services.1, Government consumption expenditures and gross investment,     Federal,         National defense,         Nondefense,     State and local, Residual]\n",
       "Index: []\n",
       "\n",
       "[0 rows x 27 columns]"
      ]
     },
     "execution_count": 46,
     "metadata": {},
     "output_type": "execute_result"
    }
   ],
   "source": [
    "import pandas as pd\n",
    "\n",
    "df = pd.read_csv('./Inputs/column_names_cleanup_file.csv')\n",
    "df.tail(3)"
   ]
  },
  {
   "cell_type": "code",
   "execution_count": 60,
   "id": "7f64c088",
   "metadata": {},
   "outputs": [],
   "source": [
    "column_list = list(df.columns)\n",
    "\n",
    "import re\n",
    "cleaned_col_list = []\n",
    "\n",
    "for col in column_list:\n",
    "    col = col.strip()\n",
    "    col = re.sub(r'[^A-Za-z0-9\\s]','',col)\n",
    "    col = re.sub(r'[^A-Za-z0-9]','_',col).lower()\n",
    "    cleaned_col_list.append(col)"
   ]
  },
  {
   "cell_type": "code",
   "execution_count": 63,
   "id": "75e2f249",
   "metadata": {},
   "outputs": [
    {
     "name": "stdout",
     "output_type": "stream",
     "text": [
      "Copy and paste the following columns into your excel file and use delimited and/or transpose to break it up the way you need it:\n",
      "\n",
      "gross_domestic_product,personal_consumption_expenditures,goods,durable_goods,nondurable_goods,services,gross_private_domestic_investment,fixed_investment,nonresidential,structures,equipment,intellectual_property_products,residential,change_in_private_inventories,net_exports_of_goods_and_services,exports,goods,services,imports,goods1,services1,government_consumption_expenditures_and_gross_investment,federal,national_defense,nondefense,state_and_local,residual\n"
     ]
    }
   ],
   "source": [
    "print('Copy and paste the following columns into your excel file and use delimited and/or transpose to break it up the way you need it:\\n')\n",
    "print(','.join(cleaned_col_list))"
   ]
  }
 ],
 "metadata": {
  "kernelspec": {
   "display_name": "Python [conda env:pyvizenv]",
   "language": "python",
   "name": "conda-env-pyvizenv-py"
  },
  "language_info": {
   "codemirror_mode": {
    "name": "ipython",
    "version": 3
   },
   "file_extension": ".py",
   "mimetype": "text/x-python",
   "name": "python",
   "nbconvert_exporter": "python",
   "pygments_lexer": "ipython3",
   "version": "3.7.11"
  }
 },
 "nbformat": 4,
 "nbformat_minor": 5
}
