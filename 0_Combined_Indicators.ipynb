{
 "cells": [
  {
   "cell_type": "markdown",
   "id": "dcda2a49",
   "metadata": {},
   "source": [
    "# Combined Indicators\n",
    "\n",
    "This notebook is meant to compile all of the indicators into a single dataframe for easy analysis.  \n",
    "\n",
    "The steps required to do this are:  \n",
    "* Gather data from source web sites  \n",
    "* Clean data and choose important data points to put into a single .csv or database  \n",
    "* Eliminate trends from data using Mayer's multiple and/or z-scores  "
   ]
  },
  {
   "cell_type": "code",
   "execution_count": null,
   "id": "af2e07db",
   "metadata": {},
   "outputs": [],
   "source": []
  }
 ],
 "metadata": {
  "kernelspec": {
   "display_name": "Python [conda env:pyvizenv]",
   "language": "python",
   "name": "conda-env-pyvizenv-py"
  },
  "language_info": {
   "codemirror_mode": {
    "name": "ipython",
    "version": 3
   },
   "file_extension": ".py",
   "mimetype": "text/x-python",
   "name": "python",
   "nbconvert_exporter": "python",
   "pygments_lexer": "ipython3",
   "version": "3.7.11"
  }
 },
 "nbformat": 4,
 "nbformat_minor": 5
}
