{
 "cells": [
  {
   "cell_type": "markdown",
   "id": "42451ee6",
   "metadata": {},
   "source": [
    "# Data Cleaning\n",
    "\n",
    "This notebook is meant to take data and clean it as needed for the primary analysis notebook.  \n",
    "\n",
    "It is also meant to provide the source information and instructions for each of the data sources.  \n",
    "\n",
    "The following clean up programs are provided:  \n",
    "* Column Clean Up Program  \n",
    "* CPI Data Cleaner  "
   ]
  },
  {
   "cell_type": "markdown",
   "id": "8d4c4e3e",
   "metadata": {},
   "source": [
    "Quarterly Data  \n",
    "\n",
    "*Note: to see cleaning procedure, uncomment out cleaning text*  \n",
    "\n",
    "GDP Data - https://www.bea.gov/data/gdp  \n",
    "Table 1.1.6 Real Gross Domestic Product, Chained Dollars  \n",
    "<!-- Before cleaning:  \n",
    "![gdp_before_cleaning](Images/gdp_116_table.png)\n",
    "After cleaning:  \n",
    "![gdp_before_cleaning](Images/gdp_116_table_cleaned.png) -->"
   ]
  },
  {
   "cell_type": "markdown",
   "id": "9a3b3fb0",
   "metadata": {},
   "source": [
    "Monthly Data  \n",
    "<br>\n",
    "The Chicago Fed National Activity Index (CFNAI) - https://www.chicagofed.org/research/data/cfnai/current-data  \n",
    "CFNAI Indexes - cfnai-data-series-xlsx.csv  \n",
    "<!-- Before cleaning:\n",
    "![chicago fed_before_cleaning](Images/chicago_fed_national_activity.png) -->\n",
    "<br>\n",
    "CPI Data - https://www.bls.gov/cpi/data.htm"
   ]
  },
  {
   "cell_type": "markdown",
   "id": "d0c5f693",
   "metadata": {},
   "source": [
    "Weekly Data"
   ]
  },
  {
   "cell_type": "markdown",
   "id": "80369a4f",
   "metadata": {},
   "source": [
    "### Column Clean Up Program"
   ]
  },
  {
   "cell_type": "code",
   "execution_count": 46,
   "id": "399a6828",
   "metadata": {},
   "outputs": [
    {
     "data": {
      "text/html": [
       "<div>\n",
       "<style scoped>\n",
       "    .dataframe tbody tr th:only-of-type {\n",
       "        vertical-align: middle;\n",
       "    }\n",
       "\n",
       "    .dataframe tbody tr th {\n",
       "        vertical-align: top;\n",
       "    }\n",
       "\n",
       "    .dataframe thead th {\n",
       "        text-align: right;\n",
       "    }\n",
       "</style>\n",
       "<table border=\"1\" class=\"dataframe\">\n",
       "  <thead>\n",
       "    <tr style=\"text-align: right;\">\n",
       "      <th></th>\n",
       "      <th>Gross domestic product</th>\n",
       "      <th>Personal consumption expenditures</th>\n",
       "      <th>Goods</th>\n",
       "      <th>Durable goods</th>\n",
       "      <th>Nondurable goods</th>\n",
       "      <th>Services</th>\n",
       "      <th>Gross private domestic investment</th>\n",
       "      <th>Fixed investment</th>\n",
       "      <th>Nonresidential</th>\n",
       "      <th>Structures</th>\n",
       "      <th>...</th>\n",
       "      <th>Services</th>\n",
       "      <th>Imports</th>\n",
       "      <th>Goods.1</th>\n",
       "      <th>Services.1</th>\n",
       "      <th>Government consumption expenditures and gross investment</th>\n",
       "      <th>Federal</th>\n",
       "      <th>National defense</th>\n",
       "      <th>Nondefense</th>\n",
       "      <th>State and local</th>\n",
       "      <th>Residual</th>\n",
       "    </tr>\n",
       "  </thead>\n",
       "  <tbody>\n",
       "  </tbody>\n",
       "</table>\n",
       "<p>0 rows × 27 columns</p>\n",
       "</div>"
      ],
      "text/plain": [
       "Empty DataFrame\n",
       "Columns: [        Gross domestic product, Personal consumption expenditures,     Goods,         Durable goods,         Nondurable goods,     Services, Gross private domestic investment,     Fixed investment,         Nonresidential,             Structures,             Equipment,             Intellectual property products,         Residential,     Change in private inventories, Net exports of goods and services,     Exports,         Goods,         Services,     Imports,         Goods.1,         Services.1, Government consumption expenditures and gross investment,     Federal,         National defense,         Nondefense,     State and local, Residual]\n",
       "Index: []\n",
       "\n",
       "[0 rows x 27 columns]"
      ]
     },
     "execution_count": 46,
     "metadata": {},
     "output_type": "execute_result"
    }
   ],
   "source": [
    "import pandas as pd\n",
    "\n",
    "df = pd.read_csv('./Inputs/column_names_cleanup_file.csv')\n",
    "df.tail(3)"
   ]
  },
  {
   "cell_type": "code",
   "execution_count": 60,
   "id": "7f64c088",
   "metadata": {},
   "outputs": [],
   "source": [
    "column_list = list(df.columns)\n",
    "\n",
    "import re\n",
    "cleaned_col_list = []\n",
    "\n",
    "for col in column_list:\n",
    "    col = col.strip()\n",
    "    col = re.sub(r'[^A-Za-z0-9\\s]','',col)\n",
    "    col = re.sub(r'[^A-Za-z0-9]','_',col).lower()\n",
    "    cleaned_col_list.append(col)"
   ]
  },
  {
   "cell_type": "code",
   "execution_count": 63,
   "id": "75e2f249",
   "metadata": {},
   "outputs": [
    {
     "name": "stdout",
     "output_type": "stream",
     "text": [
      "Copy and paste the following columns into your excel file and use delimited and/or transpose to break it up the way you need it:\n",
      "\n",
      "gross_domestic_product,personal_consumption_expenditures,goods,durable_goods,nondurable_goods,services,gross_private_domestic_investment,fixed_investment,nonresidential,structures,equipment,intellectual_property_products,residential,change_in_private_inventories,net_exports_of_goods_and_services,exports,goods,services,imports,goods1,services1,government_consumption_expenditures_and_gross_investment,federal,national_defense,nondefense,state_and_local,residual\n"
     ]
    }
   ],
   "source": [
    "print('Copy and paste the following columns into your excel file and use delimited and/or transpose to break it up the way you need it:\\n')\n",
    "print(','.join(cleaned_col_list))"
   ]
  },
  {
   "cell_type": "code",
   "execution_count": null,
   "id": "25d0cd69",
   "metadata": {},
   "outputs": [],
   "source": []
  },
  {
   "cell_type": "code",
   "execution_count": null,
   "id": "a2ff103a",
   "metadata": {},
   "outputs": [],
   "source": []
  },
  {
   "cell_type": "markdown",
   "id": "f7b5e6a0",
   "metadata": {},
   "source": [
    "### Excel Macro Assist\n",
    "\n",
    "This code is meant to help with formatting macros over many columns using the same Visual Basic macro code."
   ]
  },
  {
   "cell_type": "code",
   "execution_count": 102,
   "id": "6d04e7a8",
   "metadata": {},
   "outputs": [],
   "source": [
    "myalphabet = [ 'A','B','C','D','E','F','G','H','I','J','K','L','M','N','O','P','Q','R','S','T','U','V','W','X','Y','Z'\n",
    "]"
   ]
  },
  {
   "cell_type": "code",
   "execution_count": 113,
   "id": "2e6e0577",
   "metadata": {},
   "outputs": [
    {
     "data": {
      "text/plain": [
       "'I'"
      ]
     },
     "execution_count": 113,
     "metadata": {},
     "output_type": "execute_result"
    }
   ],
   "source": [
    "myalphabet[8]"
   ]
  },
  {
   "cell_type": "code",
   "execution_count": 103,
   "id": "0d88208e",
   "metadata": {},
   "outputs": [],
   "source": [
    "excel_column_list2 = []\n",
    "\n",
    "for char1 in myalphabet:\n",
    "    for char2 in myalphabet:\n",
    "        excel_column_list2.append(char1+char2)"
   ]
  },
  {
   "cell_type": "code",
   "execution_count": 129,
   "id": "9c08e98b",
   "metadata": {},
   "outputs": [
    {
     "data": {
      "text/plain": [
       "'AD'"
      ]
     },
     "execution_count": 129,
     "metadata": {},
     "output_type": "execute_result"
    }
   ],
   "source": [
    "excel_column_list2[3]"
   ]
  },
  {
   "cell_type": "code",
   "execution_count": 133,
   "id": "fbb02824",
   "metadata": {},
   "outputs": [],
   "source": [
    "new_list = myalphabet[8:] + excel_column_list2[:4]\n",
    "# new_list"
   ]
  },
  {
   "cell_type": "code",
   "execution_count": 134,
   "id": "d5da7311",
   "metadata": {},
   "outputs": [
    {
     "name": "stdout",
     "output_type": "stream",
     "text": [
      "\tSelection.Copy\n",
      "        Columns(\"I:I\").Select\n",
      "        Selection.PasteSpecial Paste:=xlPasteFormats, Operation:=xlNone, _\n",
      "            SkipBlanks:=False, Transpose:=False\n",
      "        Application.CutCopyMode = False\n",
      "        \n",
      "\tSelection.Copy\n",
      "        Columns(\"J:J\").Select\n",
      "        Selection.PasteSpecial Paste:=xlPasteFormats, Operation:=xlNone, _\n",
      "            SkipBlanks:=False, Transpose:=False\n",
      "        Application.CutCopyMode = False\n",
      "        \n",
      "\tSelection.Copy\n",
      "        Columns(\"K:K\").Select\n",
      "        Selection.PasteSpecial Paste:=xlPasteFormats, Operation:=xlNone, _\n",
      "            SkipBlanks:=False, Transpose:=False\n",
      "        Application.CutCopyMode = False\n",
      "        \n",
      "\tSelection.Copy\n",
      "        Columns(\"L:L\").Select\n",
      "        Selection.PasteSpecial Paste:=xlPasteFormats, Operation:=xlNone, _\n",
      "            SkipBlanks:=False, Transpose:=False\n",
      "        Application.CutCopyMode = False\n",
      "        \n",
      "\tSelection.Copy\n",
      "        Columns(\"M:M\").Select\n",
      "        Selection.PasteSpecial Paste:=xlPasteFormats, Operation:=xlNone, _\n",
      "            SkipBlanks:=False, Transpose:=False\n",
      "        Application.CutCopyMode = False\n",
      "        \n",
      "\tSelection.Copy\n",
      "        Columns(\"N:N\").Select\n",
      "        Selection.PasteSpecial Paste:=xlPasteFormats, Operation:=xlNone, _\n",
      "            SkipBlanks:=False, Transpose:=False\n",
      "        Application.CutCopyMode = False\n",
      "        \n",
      "\tSelection.Copy\n",
      "        Columns(\"O:O\").Select\n",
      "        Selection.PasteSpecial Paste:=xlPasteFormats, Operation:=xlNone, _\n",
      "            SkipBlanks:=False, Transpose:=False\n",
      "        Application.CutCopyMode = False\n",
      "        \n",
      "\tSelection.Copy\n",
      "        Columns(\"P:P\").Select\n",
      "        Selection.PasteSpecial Paste:=xlPasteFormats, Operation:=xlNone, _\n",
      "            SkipBlanks:=False, Transpose:=False\n",
      "        Application.CutCopyMode = False\n",
      "        \n",
      "\tSelection.Copy\n",
      "        Columns(\"Q:Q\").Select\n",
      "        Selection.PasteSpecial Paste:=xlPasteFormats, Operation:=xlNone, _\n",
      "            SkipBlanks:=False, Transpose:=False\n",
      "        Application.CutCopyMode = False\n",
      "        \n",
      "\tSelection.Copy\n",
      "        Columns(\"R:R\").Select\n",
      "        Selection.PasteSpecial Paste:=xlPasteFormats, Operation:=xlNone, _\n",
      "            SkipBlanks:=False, Transpose:=False\n",
      "        Application.CutCopyMode = False\n",
      "        \n",
      "\tSelection.Copy\n",
      "        Columns(\"S:S\").Select\n",
      "        Selection.PasteSpecial Paste:=xlPasteFormats, Operation:=xlNone, _\n",
      "            SkipBlanks:=False, Transpose:=False\n",
      "        Application.CutCopyMode = False\n",
      "        \n",
      "\tSelection.Copy\n",
      "        Columns(\"T:T\").Select\n",
      "        Selection.PasteSpecial Paste:=xlPasteFormats, Operation:=xlNone, _\n",
      "            SkipBlanks:=False, Transpose:=False\n",
      "        Application.CutCopyMode = False\n",
      "        \n",
      "\tSelection.Copy\n",
      "        Columns(\"U:U\").Select\n",
      "        Selection.PasteSpecial Paste:=xlPasteFormats, Operation:=xlNone, _\n",
      "            SkipBlanks:=False, Transpose:=False\n",
      "        Application.CutCopyMode = False\n",
      "        \n",
      "\tSelection.Copy\n",
      "        Columns(\"V:V\").Select\n",
      "        Selection.PasteSpecial Paste:=xlPasteFormats, Operation:=xlNone, _\n",
      "            SkipBlanks:=False, Transpose:=False\n",
      "        Application.CutCopyMode = False\n",
      "        \n",
      "\tSelection.Copy\n",
      "        Columns(\"W:W\").Select\n",
      "        Selection.PasteSpecial Paste:=xlPasteFormats, Operation:=xlNone, _\n",
      "            SkipBlanks:=False, Transpose:=False\n",
      "        Application.CutCopyMode = False\n",
      "        \n",
      "\tSelection.Copy\n",
      "        Columns(\"X:X\").Select\n",
      "        Selection.PasteSpecial Paste:=xlPasteFormats, Operation:=xlNone, _\n",
      "            SkipBlanks:=False, Transpose:=False\n",
      "        Application.CutCopyMode = False\n",
      "        \n",
      "\tSelection.Copy\n",
      "        Columns(\"Y:Y\").Select\n",
      "        Selection.PasteSpecial Paste:=xlPasteFormats, Operation:=xlNone, _\n",
      "            SkipBlanks:=False, Transpose:=False\n",
      "        Application.CutCopyMode = False\n",
      "        \n",
      "\tSelection.Copy\n",
      "        Columns(\"Z:Z\").Select\n",
      "        Selection.PasteSpecial Paste:=xlPasteFormats, Operation:=xlNone, _\n",
      "            SkipBlanks:=False, Transpose:=False\n",
      "        Application.CutCopyMode = False\n",
      "        \n",
      "\tSelection.Copy\n",
      "        Columns(\"AA:AA\").Select\n",
      "        Selection.PasteSpecial Paste:=xlPasteFormats, Operation:=xlNone, _\n",
      "            SkipBlanks:=False, Transpose:=False\n",
      "        Application.CutCopyMode = False\n",
      "        \n",
      "\tSelection.Copy\n",
      "        Columns(\"AB:AB\").Select\n",
      "        Selection.PasteSpecial Paste:=xlPasteFormats, Operation:=xlNone, _\n",
      "            SkipBlanks:=False, Transpose:=False\n",
      "        Application.CutCopyMode = False\n",
      "        \n",
      "\tSelection.Copy\n",
      "        Columns(\"AC:AC\").Select\n",
      "        Selection.PasteSpecial Paste:=xlPasteFormats, Operation:=xlNone, _\n",
      "            SkipBlanks:=False, Transpose:=False\n",
      "        Application.CutCopyMode = False\n",
      "        \n",
      "\tSelection.Copy\n",
      "        Columns(\"AD:AD\").Select\n",
      "        Selection.PasteSpecial Paste:=xlPasteFormats, Operation:=xlNone, _\n",
      "            SkipBlanks:=False, Transpose:=False\n",
      "        Application.CutCopyMode = False\n",
      "        \n"
     ]
    }
   ],
   "source": [
    "for x in new_list:\n",
    "    mystring = f'''\\tSelection.Copy\n",
    "        Columns(\"{x}:{x}\").Select\n",
    "        Selection.PasteSpecial Paste:=xlPasteFormats, Operation:=xlNone, _\n",
    "            SkipBlanks:=False, Transpose:=False\n",
    "        Application.CutCopyMode = False\n",
    "        '''\n",
    "    print(mystring)"
   ]
  },
  {
   "cell_type": "code",
   "execution_count": null,
   "id": "327b99bc",
   "metadata": {},
   "outputs": [],
   "source": []
  },
  {
   "cell_type": "markdown",
   "id": "40fa53da",
   "metadata": {},
   "source": [
    "### CPI Data Cleaner"
   ]
  },
  {
   "cell_type": "code",
   "execution_count": 127,
   "id": "17f07312",
   "metadata": {},
   "outputs": [
    {
     "data": {
      "text/plain": [
       "0"
      ]
     },
     "execution_count": 127,
     "metadata": {},
     "output_type": "execute_result"
    }
   ],
   "source": [
    "cpi_final_df = pd.DataFrame()\n",
    "len(cpi_final_df)"
   ]
  },
  {
   "cell_type": "code",
   "execution_count": 101,
   "id": "281d644e",
   "metadata": {},
   "outputs": [
    {
     "name": "stderr",
     "output_type": "stream",
     "text": [
      "C:\\Users\\srobi\\anaconda3\\envs\\pyvizenv\\lib\\site-packages\\openpyxl\\styles\\stylesheet.py:221: UserWarning: Workbook contains no default style, apply openpyxl's default\n",
      "  warn(\"Workbook contains no default style, apply openpyxl's default\")\n",
      "C:\\Users\\srobi\\anaconda3\\envs\\pyvizenv\\lib\\site-packages\\pandas\\core\\frame.py:5042: SettingWithCopyWarning: \n",
      "A value is trying to be set on a copy of a slice from a DataFrame\n",
      "\n",
      "See the caveats in the documentation: https://pandas.pydata.org/pandas-docs/stable/user_guide/indexing.html#returning-a-view-versus-a-copy\n",
      "  errors=errors,\n",
      "C:\\Users\\srobi\\anaconda3\\envs\\pyvizenv\\lib\\site-packages\\ipykernel_launcher.py:36: SettingWithCopyWarning: \n",
      "A value is trying to be set on a copy of a slice from a DataFrame.\n",
      "Try using .loc[row_indexer,col_indexer] = value instead\n",
      "\n",
      "See the caveats in the documentation: https://pandas.pydata.org/pandas-docs/stable/user_guide/indexing.html#returning-a-view-versus-a-copy\n",
      "C:\\Users\\srobi\\anaconda3\\envs\\pyvizenv\\lib\\site-packages\\ipykernel_launcher.py:43: SettingWithCopyWarning: \n",
      "A value is trying to be set on a copy of a slice from a DataFrame.\n",
      "Try using .loc[row_indexer,col_indexer] = value instead\n",
      "\n",
      "See the caveats in the documentation: https://pandas.pydata.org/pandas-docs/stable/user_guide/indexing.html#returning-a-view-versus-a-copy\n"
     ]
    },
    {
     "data": {
      "text/html": [
       "<div>\n",
       "<style scoped>\n",
       "    .dataframe tbody tr th:only-of-type {\n",
       "        vertical-align: middle;\n",
       "    }\n",
       "\n",
       "    .dataframe tbody tr th {\n",
       "        vertical-align: top;\n",
       "    }\n",
       "\n",
       "    .dataframe thead th {\n",
       "        text-align: right;\n",
       "    }\n",
       "</style>\n",
       "<table border=\"1\" class=\"dataframe\">\n",
       "  <thead>\n",
       "    <tr style=\"text-align: right;\">\n",
       "      <th></th>\n",
       "      <th>id</th>\n",
       "      <th>year</th>\n",
       "      <th>month</th>\n",
       "      <th>commodities</th>\n",
       "      <th>cpi</th>\n",
       "      <th>day_care</th>\n",
       "      <th>durables</th>\n",
       "      <th>education</th>\n",
       "      <th>energy</th>\n",
       "      <th>food</th>\n",
       "      <th>housing</th>\n",
       "      <th>meat</th>\n",
       "      <th>medical_care</th>\n",
       "      <th>motor_fuel</th>\n",
       "      <th>new_vehicles</th>\n",
       "      <th>used_vehicles</th>\n",
       "    </tr>\n",
       "  </thead>\n",
       "  <tbody>\n",
       "    <tr>\n",
       "      <th>876</th>\n",
       "      <td>202201.0</td>\n",
       "      <td>2022.0</td>\n",
       "      <td>01</td>\n",
       "      <td>210.918</td>\n",
       "      <td>281.148</td>\n",
       "      <td>323.184</td>\n",
       "      <td>127.345</td>\n",
       "      <td>278.087</td>\n",
       "      <td>260.653</td>\n",
       "      <td>288.264</td>\n",
       "      <td>289.889</td>\n",
       "      <td>298.441</td>\n",
       "      <td>535.048</td>\n",
       "      <td>291.767</td>\n",
       "      <td>167.582</td>\n",
       "      <td>210.293</td>\n",
       "    </tr>\n",
       "    <tr>\n",
       "      <th>877</th>\n",
       "      <td>202202.0</td>\n",
       "      <td>2022.0</td>\n",
       "      <td>02</td>\n",
       "      <td>213.960</td>\n",
       "      <td>283.716</td>\n",
       "      <td>324.504</td>\n",
       "      <td>128.109</td>\n",
       "      <td>278.380</td>\n",
       "      <td>267.771</td>\n",
       "      <td>291.244</td>\n",
       "      <td>291.504</td>\n",
       "      <td>301.240</td>\n",
       "      <td>536.932</td>\n",
       "      <td>307.422</td>\n",
       "      <td>168.027</td>\n",
       "      <td>212.040</td>\n",
       "    </tr>\n",
       "    <tr>\n",
       "      <th>878</th>\n",
       "      <td>202203.0</td>\n",
       "      <td>2022.0</td>\n",
       "      <td>03</td>\n",
       "      <td>219.057</td>\n",
       "      <td>287.504</td>\n",
       "      <td>324.205</td>\n",
       "      <td>127.471</td>\n",
       "      <td>278.388</td>\n",
       "      <td>298.246</td>\n",
       "      <td>294.064</td>\n",
       "      <td>293.577</td>\n",
       "      <td>305.116</td>\n",
       "      <td>539.739</td>\n",
       "      <td>368.440</td>\n",
       "      <td>168.056</td>\n",
       "      <td>208.216</td>\n",
       "    </tr>\n",
       "  </tbody>\n",
       "</table>\n",
       "</div>"
      ],
      "text/plain": [
       "           id    year month  commodities      cpi  day_care  durables  \\\n",
       "876  202201.0  2022.0    01      210.918  281.148   323.184   127.345   \n",
       "877  202202.0  2022.0    02      213.960  283.716   324.504   128.109   \n",
       "878  202203.0  2022.0    03      219.057  287.504   324.205   127.471   \n",
       "\n",
       "     education   energy     food  housing     meat  medical_care  motor_fuel  \\\n",
       "876    278.087  260.653  288.264  289.889  298.441       535.048     291.767   \n",
       "877    278.380  267.771  291.244  291.504  301.240       536.932     307.422   \n",
       "878    278.388  298.246  294.064  293.577  305.116       539.739     368.440   \n",
       "\n",
       "     new_vehicles  used_vehicles  \n",
       "876       167.582        210.293  \n",
       "877       168.027        212.040  \n",
       "878       168.056        208.216  "
      ]
     },
     "execution_count": 101,
     "metadata": {},
     "output_type": "execute_result"
    }
   ],
   "source": [
    "# Get directory list of files\n",
    "# import OS module\n",
    "import os\n",
    " \n",
    "# Get the list of all files and directories\n",
    "# path = \"C:\\\\Users\\\\srobi\\\\GitHubRepos\\\\0_inputs\\\\economic_indicators\\\\cpi\"\n",
    "path = \"..\\\\0_inputs\\\\economic_indicators\\\\cpi\"\n",
    "dir_list = os.listdir(path)\n",
    " \n",
    "# print(\"Files and directories in '\", path, \"' :\")\n",
    "# prints all files\n",
    "# print(dir_list)\n",
    "# BREAK HERE\n",
    "\n",
    "cpi_final_df = pd.DataFrame()\n",
    "\n",
    "for file_name in dir_list:\n",
    "    # Read in data\n",
    "    import pandas as pd\n",
    "    from openpyxl import Workbook\n",
    "\n",
    "    cpi_df = pd.read_excel('../0_inputs/economic_indicators/cpi/'+file_name, engine='openpyxl', header=11)\n",
    "#     cpi_df = pd.read_excel('./Inputs/BLS_data/CPI_for_All_Urban_Consumers.xlsx', engine='openpyxl', header=11)\n",
    "    cpi_df.drop(['HALF1','HALF2'],axis=1,inplace=True)\n",
    "    # cpi_df.tail(3)\n",
    "    # BREAK HERE\n",
    "\n",
    "    # The following code reformats the data into a 'year', 'month', 'cpi' columns\n",
    "    column_list = cpi_df.columns.tolist()\n",
    "    column_list.pop(0) # Remove year from list\n",
    "    column_list.pop(0) # Remove Jan from list\n",
    "    column_list\n",
    "\n",
    "    cpi_df2 = cpi_df[['Year','Jan']]\n",
    "    cpi_df2.rename(columns={'Jan':file_name[:-5]},inplace=True)\n",
    "    cpi_df2['month'] = 1\n",
    "\n",
    "    counter = 2\n",
    "\n",
    "    for col in column_list:\n",
    "        cpi_loopdf = cpi_df[['Year',col]]\n",
    "        cpi_loopdf.rename(columns={col:file_name[:-5]},inplace=True)\n",
    "        cpi_loopdf['month'] = counter\n",
    "        cpi_df2 = pd.concat([cpi_df2, cpi_loopdf])\n",
    "        counter += 1\n",
    "\n",
    "    cpi_df2.rename(columns={'Year':'year'},inplace=True)\n",
    "    cpi_df2['id'] = cpi_df2['year']*100 + cpi_df2['month']\n",
    "    cpi_df2 = cpi_df2[['id','year','month',file_name[:-5]]]\n",
    "    cpi_df2 = cpi_df2.sort_values([\"year\", \"month\"], ascending = (True, True))\n",
    "    cpi_df2 = cpi_df2.dropna()\n",
    "#     cpi_df2['category'] = file_name\n",
    "    if len(cpi_final_df) == 0:\n",
    "        cpi_final_df = cpi_df2\n",
    "    else:\n",
    "        cpi_final_df = pd.merge(cpi_final_df,cpi_df2[['id',file_name[:-5]]],on='id',how='outer')\n",
    "    # cpi_df2.tail(20)\n",
    "\n",
    "cpi_final_df['year'] = (cpi_final_df['id']/100).round(0)\n",
    "cpi_final_df['month'] = cpi_final_df['id'].astype(str).str.slice(4,6,1) # start, stop, step\n",
    "cpi_final_df = cpi_final_df.sort_values('id',ascending=True)\n",
    "\n",
    "cpi_final_df.to_csv('./Inputs/cpi_compiled.csv')\n",
    "cpi_final_df.tail(3)"
   ]
  }
 ],
 "metadata": {
  "kernelspec": {
   "display_name": "Python [conda env:pyvizenv]",
   "language": "python",
   "name": "conda-env-pyvizenv-py"
  },
  "language_info": {
   "codemirror_mode": {
    "name": "ipython",
    "version": 3
   },
   "file_extension": ".py",
   "mimetype": "text/x-python",
   "name": "python",
   "nbconvert_exporter": "python",
   "pygments_lexer": "ipython3",
   "version": "3.7.11"
  }
 },
 "nbformat": 4,
 "nbformat_minor": 5
}
